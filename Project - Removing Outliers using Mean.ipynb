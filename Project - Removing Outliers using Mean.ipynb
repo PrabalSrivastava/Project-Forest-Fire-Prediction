{
 "cells": [
  {
   "cell_type": "code",
   "execution_count": 106,
   "metadata": {},
   "outputs": [],
   "source": [
    "import pandas as pd\n",
    "import numpy as np\n",
    "import seaborn as sns\n",
    "import matplotlib.pyplot as plt\n",
    "df=pd.read_csv(\"forestfires.csv\")\n",
    "df.head(10)\n",
    "\n",
    "list1=[0 for i in range(517)]\n",
    "count=0\n",
    "for index,rows in df.iterrows():\n",
    "    if rows[\"area\"]==0:\n",
    "        list1[index]=0\n",
    "    else:\n",
    "        list1[index]=1\n",
    "area_b=pd.DataFrame(list1)\n",
    "df=pd.concat([df,area_b],axis=1)\n",
    "df.rename({0:\"area_b\"},axis=1,inplace=True)\n",
    "df.drop([\"area\"],axis=1,inplace=True)\n",
    "\n",
    "from sklearn.preprocessing import LabelEncoder\n",
    "le_Gender=LabelEncoder()\n",
    "#adding the le_gender column to the input var df(x)\n",
    "df[\"month_b\"]=le_Gender.fit_transform(df[\"month\"])\n",
    "df[\"day_b\"]=le_Gender.fit_transform(df[\"day\"])\n",
    "df.drop([\"month\",\"day\"],axis=1,inplace=True)"
   ]
  },
  {
   "cell_type": "code",
   "execution_count": 107,
   "metadata": {},
   "outputs": [
    {
     "data": {
      "text/html": [
       "<div>\n",
       "<style scoped>\n",
       "    .dataframe tbody tr th:only-of-type {\n",
       "        vertical-align: middle;\n",
       "    }\n",
       "\n",
       "    .dataframe tbody tr th {\n",
       "        vertical-align: top;\n",
       "    }\n",
       "\n",
       "    .dataframe thead th {\n",
       "        text-align: right;\n",
       "    }\n",
       "</style>\n",
       "<table border=\"1\" class=\"dataframe\">\n",
       "  <thead>\n",
       "    <tr style=\"text-align: right;\">\n",
       "      <th></th>\n",
       "      <th>X</th>\n",
       "      <th>Y</th>\n",
       "      <th>FFMC</th>\n",
       "      <th>DMC</th>\n",
       "      <th>DC</th>\n",
       "      <th>ISI</th>\n",
       "      <th>temp</th>\n",
       "      <th>RH</th>\n",
       "      <th>wind</th>\n",
       "      <th>rain</th>\n",
       "      <th>area_b</th>\n",
       "      <th>month_b</th>\n",
       "      <th>day_b</th>\n",
       "    </tr>\n",
       "  </thead>\n",
       "  <tbody>\n",
       "    <tr>\n",
       "      <th>0</th>\n",
       "      <td>7</td>\n",
       "      <td>5</td>\n",
       "      <td>86.2</td>\n",
       "      <td>26.2</td>\n",
       "      <td>94.3</td>\n",
       "      <td>5.1</td>\n",
       "      <td>8.2</td>\n",
       "      <td>51</td>\n",
       "      <td>6.7</td>\n",
       "      <td>0.0</td>\n",
       "      <td>0</td>\n",
       "      <td>7</td>\n",
       "      <td>0</td>\n",
       "    </tr>\n",
       "    <tr>\n",
       "      <th>1</th>\n",
       "      <td>7</td>\n",
       "      <td>4</td>\n",
       "      <td>90.6</td>\n",
       "      <td>35.4</td>\n",
       "      <td>669.1</td>\n",
       "      <td>6.7</td>\n",
       "      <td>18.0</td>\n",
       "      <td>33</td>\n",
       "      <td>0.9</td>\n",
       "      <td>0.0</td>\n",
       "      <td>0</td>\n",
       "      <td>10</td>\n",
       "      <td>5</td>\n",
       "    </tr>\n",
       "    <tr>\n",
       "      <th>2</th>\n",
       "      <td>7</td>\n",
       "      <td>4</td>\n",
       "      <td>90.6</td>\n",
       "      <td>43.7</td>\n",
       "      <td>686.9</td>\n",
       "      <td>6.7</td>\n",
       "      <td>14.6</td>\n",
       "      <td>33</td>\n",
       "      <td>1.3</td>\n",
       "      <td>0.0</td>\n",
       "      <td>0</td>\n",
       "      <td>10</td>\n",
       "      <td>2</td>\n",
       "    </tr>\n",
       "    <tr>\n",
       "      <th>3</th>\n",
       "      <td>8</td>\n",
       "      <td>6</td>\n",
       "      <td>91.7</td>\n",
       "      <td>33.3</td>\n",
       "      <td>77.5</td>\n",
       "      <td>9.0</td>\n",
       "      <td>8.3</td>\n",
       "      <td>97</td>\n",
       "      <td>4.0</td>\n",
       "      <td>0.2</td>\n",
       "      <td>0</td>\n",
       "      <td>7</td>\n",
       "      <td>0</td>\n",
       "    </tr>\n",
       "    <tr>\n",
       "      <th>4</th>\n",
       "      <td>8</td>\n",
       "      <td>6</td>\n",
       "      <td>89.3</td>\n",
       "      <td>51.3</td>\n",
       "      <td>102.2</td>\n",
       "      <td>9.6</td>\n",
       "      <td>11.4</td>\n",
       "      <td>99</td>\n",
       "      <td>1.8</td>\n",
       "      <td>0.0</td>\n",
       "      <td>0</td>\n",
       "      <td>7</td>\n",
       "      <td>3</td>\n",
       "    </tr>\n",
       "  </tbody>\n",
       "</table>\n",
       "</div>"
      ],
      "text/plain": [
       "   X  Y  FFMC   DMC     DC  ISI  temp  RH  wind  rain  area_b  month_b  day_b\n",
       "0  7  5  86.2  26.2   94.3  5.1   8.2  51   6.7   0.0       0        7      0\n",
       "1  7  4  90.6  35.4  669.1  6.7  18.0  33   0.9   0.0       0       10      5\n",
       "2  7  4  90.6  43.7  686.9  6.7  14.6  33   1.3   0.0       0       10      2\n",
       "3  8  6  91.7  33.3   77.5  9.0   8.3  97   4.0   0.2       0        7      0\n",
       "4  8  6  89.3  51.3  102.2  9.6  11.4  99   1.8   0.0       0        7      3"
      ]
     },
     "execution_count": 107,
     "metadata": {},
     "output_type": "execute_result"
    }
   ],
   "source": [
    "df.head()"
   ]
  },
  {
   "cell_type": "code",
   "execution_count": 108,
   "metadata": {},
   "outputs": [
    {
     "data": {
      "text/plain": [
       "{'whiskers': [<matplotlib.lines.Line2D at 0x10c5afb1940>,\n",
       "  <matplotlib.lines.Line2D at 0x10c5afb1c88>],\n",
       " 'caps': [<matplotlib.lines.Line2D at 0x10c5afb1fd0>,\n",
       "  <matplotlib.lines.Line2D at 0x10c5afba358>],\n",
       " 'boxes': [<matplotlib.lines.Line2D at 0x10c5afb1550>],\n",
       " 'medians': [<matplotlib.lines.Line2D at 0x10c5afba6a0>],\n",
       " 'fliers': [<matplotlib.lines.Line2D at 0x10c5afba9e8>],\n",
       " 'means': []}"
      ]
     },
     "execution_count": 108,
     "metadata": {},
     "output_type": "execute_result"
    },
    {
     "data": {
      "image/png": "[encoded data removed]",
      "text/plain": [
       "<Figure size 432x288 with 1 Axes>"
      ]
     },
     "metadata": {
      "needs_background": "light"
     },
     "output_type": "display_data"
    }
   ],
   "source": [
    "plt.boxplot(df[\"Y\"])"
   ]
  },
  {
   "cell_type": "code",
   "execution_count": 109,
   "metadata": {},
   "outputs": [
    {
     "name": "stdout",
     "output_type": "stream",
     "text": [
      "517\n",
      "<class 'pandas.core.frame.DataFrame'>\n",
      "RangeIndex: 517 entries, 0 to 516\n",
      "Data columns (total 13 columns):\n",
      "X          517 non-null int64\n",
      "Y          517 non-null int64\n",
      "FFMC       517 non-null float64\n",
      "DMC        517 non-null float64\n",
      "DC         517 non-null float64\n",
      "ISI        517 non-null float64\n",
      "temp       517 non-null float64\n",
      "RH         517 non-null int64\n",
      "wind       517 non-null float64\n",
      "rain       517 non-null float64\n",
      "area_b     517 non-null int64\n",
      "month_b    517 non-null int32\n",
      "day_b      517 non-null int32\n",
      "dtypes: float64(7), int32(2), int64(4)\n",
      "memory usage: 48.5 KB\n",
      "51\n"
     ]
    },
    {
     "data": {
      "image/png": "[encoded data removed]",
      "text/plain": [
       "<Figure size 432x288 with 1 Axes>"
      ]
     },
     "metadata": {
      "needs_background": "light"
     },
     "output_type": "display_data"
    }
   ],
   "source": [
    "#removing outleirs of Y\n",
    "count=0\n",
    "mean=int(df[\"Y\"].mean(skipna=True))\n",
    "for index,row in df.iterrows():\n",
    "    if (row[\"Y\"]>6) or (row[\"Y\"]<3) :\n",
    "        df[\"Y\"]=df[\"Y\"].replace(mean)\n",
    "        count+=1\n",
    "print(df[\"Y\"].count())\n",
    "plt.boxplot(df[\"Y\"])\n",
    "df.info()\n",
    "print(count)"
   ]
  },
  {
   "cell_type": "code",
   "execution_count": 110,
   "metadata": {},
   "outputs": [
    {
     "data": {
      "text/plain": [
       "{'whiskers': [<matplotlib.lines.Line2D at 0x10c5b066710>,\n",
       "  <matplotlib.lines.Line2D at 0x10c5b066a58>],\n",
       " 'caps': [<matplotlib.lines.Line2D at 0x10c5b066da0>,\n",
       "  <matplotlib.lines.Line2D at 0x10c5b066e80>],\n",
       " 'boxes': [<matplotlib.lines.Line2D at 0x10c5b066358>],\n",
       " 'medians': [<matplotlib.lines.Line2D at 0x10c5b071470>],\n",
       " 'fliers': [<matplotlib.lines.Line2D at 0x10c5b0717b8>],\n",
       " 'means': []}"
      ]
     },
     "execution_count": 110,
     "metadata": {},
     "output_type": "execute_result"
    },
    {
     "data": {
      "image/png": "[encoded data removed]",
      "text/plain": [
       "<Figure size 432x288 with 1 Axes>"
      ]
     },
     "metadata": {
      "needs_background": "light"
     },
     "output_type": "display_data"
    }
   ],
   "source": [
    "plt.boxplot(df[\"X\"])"
   ]
  },
  {
   "cell_type": "code",
   "execution_count": 111,
   "metadata": {},
   "outputs": [
    {
     "data": {
      "text/plain": [
       "{'whiskers': [<matplotlib.lines.Line2D at 0x10c5b0c1b00>,\n",
       "  <matplotlib.lines.Line2D at 0x10c5b0c1e48>],\n",
       " 'caps': [<matplotlib.lines.Line2D at 0x10c5b0c1f28>,\n",
       "  <matplotlib.lines.Line2D at 0x10c5b0cc518>],\n",
       " 'boxes': [<matplotlib.lines.Line2D at 0x10c5b0c1748>],\n",
       " 'medians': [<matplotlib.lines.Line2D at 0x10c5b0cc860>],\n",
       " 'fliers': [<matplotlib.lines.Line2D at 0x10c5b0ccba8>],\n",
       " 'means': []}"
      ]
     },
     "execution_count": 111,
     "metadata": {},
     "output_type": "execute_result"
    },
    {
     "data": {
      "image/png": "[encoded data removed]",
      "text/plain": [
       "<Figure size 432x288 with 1 Axes>"
      ]
     },
     "metadata": {
      "needs_background": "light"
     },
     "output_type": "display_data"
    }
   ],
   "source": [
    "plt.boxplot(df[\"FFMC\"])"
   ]
  },
  {
   "cell_type": "code",
   "execution_count": 112,
   "metadata": {},
   "outputs": [
    {
     "name": "stdout",
     "output_type": "stream",
     "text": [
      "90\n",
      "79\n"
     ]
    },
    {
     "data": {
      "image/png": "[encoded data removed]",
      "text/plain": [
       "<Figure size 432x288 with 1 Axes>"
      ]
     },
     "metadata": {
      "needs_background": "light"
     },
     "output_type": "display_data"
    }
   ],
   "source": [
    "#removing outleirs of FFMC\n",
    "count=0\n",
    "mean=int(df[\"FFMC\"].mean(skipna=True))\n",
    "print(mean)\n",
    "for index,row in df.iterrows():\n",
    "    if (row[\"FFMC\"]>96) or (row[\"FFMC\"]<88) :\n",
    "        #df=df.drop(index)\n",
    "        df[\"FFMC\"]=df[\"FFMC\"].replace(row[\"FFMC\"],mean)\n",
    "        count+=1\n",
    "#print(df[\"FFMC\"])\n",
    "plt.boxplot(df[\"FFMC\"])\n",
    "#df.info()\n",
    "print(count)"
   ]
  },
  {
   "cell_type": "code",
   "execution_count": 113,
   "metadata": {},
   "outputs": [
    {
     "data": {
      "text/plain": [
       "{'whiskers': [<matplotlib.lines.Line2D at 0x10c5b1835c0>,\n",
       "  <matplotlib.lines.Line2D at 0x10c5b183908>],\n",
       " 'caps': [<matplotlib.lines.Line2D at 0x10c5b183c50>,\n",
       "  <matplotlib.lines.Line2D at 0x10c5b183f98>],\n",
       " 'boxes': [<matplotlib.lines.Line2D at 0x10c5b183208>],\n",
       " 'medians': [<matplotlib.lines.Line2D at 0x10c5b18d320>],\n",
       " 'fliers': [<matplotlib.lines.Line2D at 0x10c5b18d668>],\n",
       " 'means': []}"
      ]
     },
     "execution_count": 113,
     "metadata": {},
     "output_type": "execute_result"
    },
    {
     "data": {
      "image/png": "[encoded data removed]",
      "text/plain": [
       "<Figure size 432x288 with 1 Axes>"
      ]
     },
     "metadata": {
      "needs_background": "light"
     },
     "output_type": "display_data"
    }
   ],
   "source": [
    "plt.boxplot(df[\"DMC\"])"
   ]
  },
  {
   "cell_type": "code",
   "execution_count": 114,
   "metadata": {},
   "outputs": [
    {
     "name": "stdout",
     "output_type": "stream",
     "text": [
      "517\n",
      "<class 'pandas.core.frame.DataFrame'>\n",
      "RangeIndex: 517 entries, 0 to 516\n",
      "Data columns (total 13 columns):\n",
      "X          517 non-null int64\n",
      "Y          517 non-null int64\n",
      "FFMC       517 non-null float64\n",
      "DMC        517 non-null float64\n",
      "DC         517 non-null float64\n",
      "ISI        517 non-null float64\n",
      "temp       517 non-null float64\n",
      "RH         517 non-null int64\n",
      "wind       517 non-null float64\n",
      "rain       517 non-null float64\n",
      "area_b     517 non-null int64\n",
      "month_b    517 non-null int32\n",
      "day_b      517 non-null int32\n",
      "dtypes: float64(7), int32(2), int64(4)\n",
      "memory usage: 48.5 KB\n",
      "54\n"
     ]
    },
    {
     "data": {
      "image/png": "[encoded data removed]",
      "text/plain": [
       "<Figure size 432x288 with 1 Axes>"
      ]
     },
     "metadata": {
      "needs_background": "light"
     },
     "output_type": "display_data"
    }
   ],
   "source": [
    "#removing outleirs of DMC\n",
    "count=0\n",
    "mean=int(df[\"DMC\"].mean(skipna=True))\n",
    "for index,row in df.iterrows():\n",
    "    if (row[\"DMC\"]>215) or (row[\"DMC\"]<5) :\n",
    "        #df=df.drop(index)\n",
    "        df[\"DMC\"]=df[\"DMC\"].replace(row[\"DMC\"],mean)\n",
    "        count+=1\n",
    "print(df[\"DMC\"].count())\n",
    "plt.boxplot(df[\"DMC\"])\n",
    "df.info()\n",
    "print(count)"
   ]
  },
  {
   "cell_type": "code",
   "execution_count": 115,
   "metadata": {},
   "outputs": [
    {
     "data": {
      "text/plain": [
       "{'whiskers': [<matplotlib.lines.Line2D at 0x10c5b236748>,\n",
       "  <matplotlib.lines.Line2D at 0x10c5b236a90>],\n",
       " 'caps': [<matplotlib.lines.Line2D at 0x10c5b236dd8>,\n",
       "  <matplotlib.lines.Line2D at 0x10c5b236eb8>],\n",
       " 'boxes': [<matplotlib.lines.Line2D at 0x10c5b236390>],\n",
       " 'medians': [<matplotlib.lines.Line2D at 0x10c5b2414a8>],\n",
       " 'fliers': [<matplotlib.lines.Line2D at 0x10c5b2417f0>],\n",
       " 'means': []}"
      ]
     },
     "execution_count": 115,
     "metadata": {},
     "output_type": "execute_result"
    },
    {
     "data": {
      "image/png": "[encoded data removed]",
      "text/plain": [
       "<Figure size 432x288 with 1 Axes>"
      ]
     },
     "metadata": {
      "needs_background": "light"
     },
     "output_type": "display_data"
    }
   ],
   "source": [
    "plt.boxplot(df[\"DC\"])"
   ]
  },
  {
   "cell_type": "code",
   "execution_count": 116,
   "metadata": {},
   "outputs": [
    {
     "name": "stdout",
     "output_type": "stream",
     "text": [
      "517\n",
      "<class 'pandas.core.frame.DataFrame'>\n",
      "RangeIndex: 517 entries, 0 to 516\n",
      "Data columns (total 13 columns):\n",
      "X          517 non-null int64\n",
      "Y          517 non-null int64\n",
      "FFMC       517 non-null float64\n",
      "DMC        517 non-null float64\n",
      "DC         517 non-null float64\n",
      "ISI        517 non-null float64\n",
      "temp       517 non-null float64\n",
      "RH         517 non-null int64\n",
      "wind       517 non-null float64\n",
      "rain       517 non-null float64\n",
      "area_b     517 non-null int64\n",
      "month_b    517 non-null int32\n",
      "day_b      517 non-null int32\n",
      "dtypes: float64(7), int32(2), int64(4)\n",
      "memory usage: 48.5 KB\n",
      "157\n"
     ]
    },
    {
     "data": {
      "image/png": "[encoded data removed]",
      "text/plain": [
       "<Figure size 432x288 with 1 Axes>"
      ]
     },
     "metadata": {
      "needs_background": "light"
     },
     "output_type": "display_data"
    }
   ],
   "source": [
    "#removing outleirs of DC\n",
    "count=0\n",
    "mean=int(df[\"DC\"].mean(skipna=True))\n",
    "for index,row in df.iterrows():\n",
    "    if (row[\"DC\"]>800) or (row[\"DC\"]<450) :\n",
    "        #df=df.drop(index)\n",
    "        df[\"DC\"]=df[\"DC\"].replace(row[\"DC\"],mean)\n",
    "        count+=1\n",
    "print(df[\"DC\"].count())\n",
    "plt.boxplot(df[\"DC\"])\n",
    "df.info()\n",
    "print(count)"
   ]
  },
  {
   "cell_type": "code",
   "execution_count": 117,
   "metadata": {},
   "outputs": [
    {
     "data": {
      "text/plain": [
       "{'whiskers': [<matplotlib.lines.Line2D at 0x10c5b2e8b70>,\n",
       "  <matplotlib.lines.Line2D at 0x10c5b2e8eb8>],\n",
       " 'caps': [<matplotlib.lines.Line2D at 0x10c5b2e8f98>,\n",
       "  <matplotlib.lines.Line2D at 0x10c5b2f4588>],\n",
       " 'boxes': [<matplotlib.lines.Line2D at 0x10c5b2e87b8>],\n",
       " 'medians': [<matplotlib.lines.Line2D at 0x10c5b2f48d0>],\n",
       " 'fliers': [<matplotlib.lines.Line2D at 0x10c5b2f4c18>],\n",
       " 'means': []}"
      ]
     },
     "execution_count": 117,
     "metadata": {},
     "output_type": "execute_result"
    },
    {
     "data": {
      "image/png": "[encoded data removed]",
      "text/plain": [
       "<Figure size 432x288 with 1 Axes>"
      ]
     },
     "metadata": {
      "needs_background": "light"
     },
     "output_type": "display_data"
    }
   ],
   "source": [
    "plt.boxplot(df[\"ISI\"])"
   ]
  },
  {
   "cell_type": "code",
   "execution_count": 118,
   "metadata": {},
   "outputs": [
    {
     "name": "stdout",
     "output_type": "stream",
     "text": [
      "517\n",
      "<class 'pandas.core.frame.DataFrame'>\n",
      "RangeIndex: 517 entries, 0 to 516\n",
      "Data columns (total 13 columns):\n",
      "X          517 non-null int64\n",
      "Y          517 non-null int64\n",
      "FFMC       517 non-null float64\n",
      "DMC        517 non-null float64\n",
      "DC         517 non-null float64\n",
      "ISI        517 non-null float64\n",
      "temp       517 non-null float64\n",
      "RH         517 non-null int64\n",
      "wind       517 non-null float64\n",
      "rain       517 non-null float64\n",
      "area_b     517 non-null int64\n",
      "month_b    517 non-null int32\n",
      "day_b      517 non-null int32\n",
      "dtypes: float64(7), int32(2), int64(4)\n",
      "memory usage: 48.5 KB\n",
      "41\n"
     ]
    },
    {
     "data": {
      "image/png": "[encoded data removed]",
      "text/plain": [
       "<Figure size 432x288 with 1 Axes>"
      ]
     },
     "metadata": {
      "needs_background": "light"
     },
     "output_type": "display_data"
    }
   ],
   "source": [
    "#removing outleirs of ISI\n",
    "count=0\n",
    "mean=int(df[\"ISI\"].mean(skipna=True))\n",
    "for index,row in df.iterrows():\n",
    "    if (row[\"ISI\"]>15.5) or (row[\"ISI\"]<0) :\n",
    "        #df=df.drop(index)\n",
    "        df[\"ISI\"]=df[\"ISI\"].replace(row[\"ISI\"],mean)\n",
    "        count+=1\n",
    "print(df[\"ISI\"].count())\n",
    "plt.boxplot(df[\"ISI\"])\n",
    "df.info()\n",
    "print(count)"
   ]
  },
  {
   "cell_type": "code",
   "execution_count": 119,
   "metadata": {},
   "outputs": [
    {
     "data": {
      "text/plain": [
       "{'whiskers': [<matplotlib.lines.Line2D at 0x10c5b3a5358>,\n",
       "  <matplotlib.lines.Line2D at 0x10c5b3a56a0>],\n",
       " 'caps': [<matplotlib.lines.Line2D at 0x10c5b3a59e8>,\n",
       "  <matplotlib.lines.Line2D at 0x10c5b3a5d30>],\n",
       " 'boxes': [<matplotlib.lines.Line2D at 0x10c5b39bf60>],\n",
       " 'medians': [<matplotlib.lines.Line2D at 0x10c5b3a5e10>],\n",
       " 'fliers': [<matplotlib.lines.Line2D at 0x10c5b3af400>],\n",
       " 'means': []}"
      ]
     },
     "execution_count": 119,
     "metadata": {},
     "output_type": "execute_result"
    },
    {
     "data": {
      "image/png": "[encoded data removed]",
      "text/plain": [
       "<Figure size 432x288 with 1 Axes>"
      ]
     },
     "metadata": {
      "needs_background": "light"
     },
     "output_type": "display_data"
    }
   ],
   "source": [
    "plt.boxplot(df[\"temp\"])"
   ]
  },
  {
   "cell_type": "code",
   "execution_count": 120,
   "metadata": {},
   "outputs": [
    {
     "name": "stdout",
     "output_type": "stream",
     "text": [
      "517\n",
      "<class 'pandas.core.frame.DataFrame'>\n",
      "RangeIndex: 517 entries, 0 to 516\n",
      "Data columns (total 13 columns):\n",
      "X          517 non-null int64\n",
      "Y          517 non-null int64\n",
      "FFMC       517 non-null float64\n",
      "DMC        517 non-null float64\n",
      "DC         517 non-null float64\n",
      "ISI        517 non-null float64\n",
      "temp       517 non-null float64\n",
      "RH         517 non-null int64\n",
      "wind       517 non-null float64\n",
      "rain       517 non-null float64\n",
      "area_b     517 non-null int64\n",
      "month_b    517 non-null int32\n",
      "day_b      517 non-null int32\n",
      "dtypes: float64(7), int32(2), int64(4)\n",
      "memory usage: 48.5 KB\n",
      "80\n"
     ]
    },
    {
     "data": {
      "image/png": "[encoded data removed]",
      "text/plain": [
       "<Figure size 432x288 with 1 Axes>"
      ]
     },
     "metadata": {
      "needs_background": "light"
     },
     "output_type": "display_data"
    }
   ],
   "source": [
    "#removing outleirs of temp\n",
    "count=0\n",
    "mean=int(df[\"temp\"].mean(skipna=True))\n",
    "for index,row in df.iterrows():\n",
    "    if (row[\"temp\"]>30) or (row[\"temp\"]<12) :\n",
    "        #df=df.drop(index)\n",
    "        df[\"temp\"]=df[\"temp\"].replace(row[\"temp\"],mean)\n",
    "        count+=1\n",
    "print(df[\"temp\"].count())\n",
    "plt.boxplot(df[\"temp\"])\n",
    "df.info()\n",
    "print(count)"
   ]
  },
  {
   "cell_type": "code",
   "execution_count": 121,
   "metadata": {},
   "outputs": [
    {
     "data": {
      "text/plain": [
       "{'whiskers': [<matplotlib.lines.Line2D at 0x10c5b455c18>,\n",
       "  <matplotlib.lines.Line2D at 0x10c5b455f60>],\n",
       " 'caps': [<matplotlib.lines.Line2D at 0x10c5b4622e8>,\n",
       "  <matplotlib.lines.Line2D at 0x10c5b462630>],\n",
       " 'boxes': [<matplotlib.lines.Line2D at 0x10c5b455860>],\n",
       " 'medians': [<matplotlib.lines.Line2D at 0x10c5b462978>],\n",
       " 'fliers': [<matplotlib.lines.Line2D at 0x10c5b462cc0>],\n",
       " 'means': []}"
      ]
     },
     "execution_count": 121,
     "metadata": {},
     "output_type": "execute_result"
    },
    {
     "data": {
      "image/png": "[encoded data removed]",
      "text/plain": [
       "<Figure size 432x288 with 1 Axes>"
      ]
     },
     "metadata": {
      "needs_background": "light"
     },
     "output_type": "display_data"
    }
   ],
   "source": [
    "plt.boxplot(df[\"RH\"])"
   ]
  },
  {
   "cell_type": "code",
   "execution_count": 122,
   "metadata": {},
   "outputs": [
    {
     "data": {
      "text/plain": [
       "{'whiskers': [<matplotlib.lines.Line2D at 0x10c5b4a9ef0>,\n",
       "  <matplotlib.lines.Line2D at 0x10c5b4a9fd0>],\n",
       " 'caps': [<matplotlib.lines.Line2D at 0x10c5b4b35c0>,\n",
       "  <matplotlib.lines.Line2D at 0x10c5b4b3908>],\n",
       " 'boxes': [<matplotlib.lines.Line2D at 0x10c5b4a9b38>],\n",
       " 'medians': [<matplotlib.lines.Line2D at 0x10c5b4b3c50>],\n",
       " 'fliers': [<matplotlib.lines.Line2D at 0x10c5b4b3f98>],\n",
       " 'means': []}"
      ]
     },
     "execution_count": 122,
     "metadata": {},
     "output_type": "execute_result"
    },
    {
     "data": {
      "image/png": "[encoded data removed]",
      "text/plain": [
       "<Figure size 432x288 with 1 Axes>"
      ]
     },
     "metadata": {
      "needs_background": "light"
     },
     "output_type": "display_data"
    }
   ],
   "source": [
    "plt.boxplot(df[\"wind\"])"
   ]
  },
  {
   "cell_type": "code",
   "execution_count": 123,
   "metadata": {},
   "outputs": [
    {
     "data": {
      "text/plain": [
       "{'whiskers': [<matplotlib.lines.Line2D at 0x10c5b4fce48>,\n",
       "  <matplotlib.lines.Line2D at 0x10c5b506438>],\n",
       " 'caps': [<matplotlib.lines.Line2D at 0x10c5b506780>,\n",
       "  <matplotlib.lines.Line2D at 0x10c5b506ac8>],\n",
       " 'boxes': [<matplotlib.lines.Line2D at 0x10c5b4fccf8>],\n",
       " 'medians': [<matplotlib.lines.Line2D at 0x10c5b506e10>],\n",
       " 'fliers': [<matplotlib.lines.Line2D at 0x10c5b506ef0>],\n",
       " 'means': []}"
      ]
     },
     "execution_count": 123,
     "metadata": {},
     "output_type": "execute_result"
    },
    {
     "data": {
      "image/png": "[encoded data removed]",
      "text/plain": [
       "<Figure size 432x288 with 1 Axes>"
      ]
     },
     "metadata": {
      "needs_background": "light"
     },
     "output_type": "display_data"
    }
   ],
   "source": [
    "plt.boxplot(df[\"rain\"])"
   ]
  },
  {
   "cell_type": "code",
   "execution_count": 124,
   "metadata": {},
   "outputs": [],
   "source": [
    "#after seeing so many outliers in rain, dropping rain\n",
    "df.drop([\"rain\"],axis=1,inplace=True)"
   ]
  },
  {
   "cell_type": "code",
   "execution_count": 125,
   "metadata": {},
   "outputs": [
    {
     "name": "stdout",
     "output_type": "stream",
     "text": [
      "517\n",
      "<class 'pandas.core.frame.DataFrame'>\n",
      "RangeIndex: 517 entries, 0 to 516\n",
      "Data columns (total 12 columns):\n",
      "X          517 non-null int64\n",
      "Y          517 non-null int64\n",
      "FFMC       517 non-null float64\n",
      "DMC        517 non-null float64\n",
      "DC         517 non-null float64\n",
      "ISI        517 non-null float64\n",
      "temp       517 non-null float64\n",
      "RH         517 non-null int64\n",
      "wind       517 non-null float64\n",
      "area_b     517 non-null int64\n",
      "month_b    517 non-null int32\n",
      "day_b      517 non-null int32\n",
      "dtypes: float64(6), int32(2), int64(4)\n",
      "memory usage: 44.5 KB\n",
      "14\n"
     ]
    },
    {
     "data": {
      "image/png": "[encoded data removed]",
      "text/plain": [
       "<Figure size 432x288 with 1 Axes>"
      ]
     },
     "metadata": {
      "needs_background": "light"
     },
     "output_type": "display_data"
    }
   ],
   "source": [
    "#removing outleirs of RH\n",
    "count=0\n",
    "mean=int(df[\"RH\"].mean(skipna=True))\n",
    "for index,row in df.iterrows():\n",
    "    if (row[\"RH\"]>80) or (row[\"RH\"]<0) :\n",
    "        #df=df.drop(index)\n",
    "        df[\"RH\"]=df[\"RH\"].replace(row[\"RH\"],mean)\n",
    "        count+=1\n",
    "print(df[\"RH\"].count())\n",
    "plt.boxplot(df[\"RH\"])\n",
    "df.info()\n",
    "print(count)"
   ]
  },
  {
   "cell_type": "code",
   "execution_count": 126,
   "metadata": {},
   "outputs": [
    {
     "data": {
      "text/plain": [
       "{'whiskers': [<matplotlib.lines.Line2D at 0x10c5b55e208>,\n",
       "  <matplotlib.lines.Line2D at 0x10c5b540208>],\n",
       " 'caps': [<matplotlib.lines.Line2D at 0x10c5b540c88>,\n",
       "  <matplotlib.lines.Line2D at 0x10c5b540ba8>],\n",
       " 'boxes': [<matplotlib.lines.Line2D at 0x10c5b55e3c8>],\n",
       " 'medians': [<matplotlib.lines.Line2D at 0x10c5b540160>],\n",
       " 'fliers': [<matplotlib.lines.Line2D at 0x10c5b540080>],\n",
       " 'means': []}"
      ]
     },
     "execution_count": 126,
     "metadata": {},
     "output_type": "execute_result"
    },
    {
     "data": {
      "image/png": "[encoded data removed]",
      "text/plain": [
       "<Figure size 432x288 with 1 Axes>"
      ]
     },
     "metadata": {
      "needs_background": "light"
     },
     "output_type": "display_data"
    }
   ],
   "source": [
    "plt.boxplot(df[\"month_b\"])"
   ]
  },
  {
   "cell_type": "code",
   "execution_count": 127,
   "metadata": {},
   "outputs": [
    {
     "data": {
      "text/plain": [
       "{'whiskers': [<matplotlib.lines.Line2D at 0x10c5b411e48>,\n",
       "  <matplotlib.lines.Line2D at 0x10c5b4115c0>],\n",
       " 'caps': [<matplotlib.lines.Line2D at 0x10c5b3c37f0>,\n",
       "  <matplotlib.lines.Line2D at 0x10c5b3e1ef0>],\n",
       " 'boxes': [<matplotlib.lines.Line2D at 0x10c5b411940>],\n",
       " 'medians': [<matplotlib.lines.Line2D at 0x10c5b3e1b38>],\n",
       " 'fliers': [<matplotlib.lines.Line2D at 0x10c5b3e1ac8>],\n",
       " 'means': []}"
      ]
     },
     "execution_count": 127,
     "metadata": {},
     "output_type": "execute_result"
    },
    {
     "data": {
      "image/png": "[encoded data removed]",
      "text/plain": [
       "<Figure size 432x288 with 1 Axes>"
      ]
     },
     "metadata": {
      "needs_background": "light"
     },
     "output_type": "display_data"
    }
   ],
   "source": [
    "plt.boxplot(df[\"day_b\"])"
   ]
  },
  {
   "cell_type": "code",
   "execution_count": 128,
   "metadata": {},
   "outputs": [
    {
     "name": "stdout",
     "output_type": "stream",
     "text": [
      "<class 'pandas.core.frame.DataFrame'>\n",
      "RangeIndex: 517 entries, 0 to 516\n",
      "Data columns (total 12 columns):\n",
      "X          517 non-null int64\n",
      "Y          517 non-null int64\n",
      "FFMC       517 non-null float64\n",
      "DMC        517 non-null float64\n",
      "DC         517 non-null float64\n",
      "ISI        517 non-null float64\n",
      "temp       517 non-null float64\n",
      "RH         517 non-null int64\n",
      "wind       517 non-null float64\n",
      "area_b     517 non-null int64\n",
      "month_b    517 non-null int32\n",
      "day_b      517 non-null int32\n",
      "dtypes: float64(6), int32(2), int64(4)\n",
      "memory usage: 44.5 KB\n"
     ]
    }
   ],
   "source": [
    "df.info()"
   ]
  },
  {
   "cell_type": "code",
   "execution_count": 129,
   "metadata": {},
   "outputs": [
    {
     "data": {
      "text/plain": [
       "<matplotlib.axes._subplots.AxesSubplot at 0x10c5b327be0>"
      ]
     },
     "execution_count": 129,
     "metadata": {},
     "output_type": "execute_result"
    },
    {
     "data": {
      "image/png": "[encoded data removed]",
      "text/plain": [
       "<Figure size 432x288 with 1 Axes>"
      ]
     },
     "metadata": {
      "needs_background": "light"
     },
     "output_type": "display_data"
    }
   ],
   "source": [
    "sns.countplot(x=\"area_b\",data=df)"
   ]
  },
  {
   "cell_type": "code",
   "execution_count": 130,
   "metadata": {},
   "outputs": [
    {
     "name": "stderr",
     "output_type": "stream",
     "text": [
      "C:\\Users\\Prabal\\Anaconda3\\lib\\site-packages\\sklearn\\linear_model\\logistic.py:433: FutureWarning: Default solver will be changed to 'lbfgs' in 0.22. Specify a solver to silence this warning.\n",
      "  FutureWarning)\n"
     ]
    }
   ],
   "source": [
    "from sklearn.linear_model import LogisticRegression\n",
    "from sklearn.model_selection import train_test_split\n",
    "x=df.drop(\"area_b\",axis=1)\n",
    "y=df[\"area_b\"]\n",
    "x_train,x_test,y_train,y_test=train_test_split(x,y,test_size=0.3,random_state=100)\n",
    "logmodel=LogisticRegression()\n",
    "logmodel.fit(x_train,y_train)\n",
    "\n",
    "y_pred=logmodel.predict(x_test)\n",
    "#print(x_test)\n",
    "#print(y_pred)\n",
    "#print(y_test)\n",
    "#print(y_pred[270],y_test[270])"
   ]
  },
  {
   "cell_type": "code",
   "execution_count": 131,
   "metadata": {},
   "outputs": [
    {
     "data": {
      "text/plain": [
       "0.5512820512820513"
      ]
     },
     "execution_count": 131,
     "metadata": {},
     "output_type": "execute_result"
    }
   ],
   "source": [
    "from sklearn.metrics import accuracy_score\n",
    "accuracy_score(y_test,y_pred)"
   ]
  },
  {
   "cell_type": "code",
   "execution_count": null,
   "metadata": {},
   "outputs": [],
   "source": []
  },
  {
   "cell_type": "code",
   "execution_count": null,
   "metadata": {},
   "outputs": [],
   "source": []
  }
 ],
 "metadata": {
  "kernelspec": {
   "display_name": "Python 3",
   "language": "python",
   "name": "python3"
  },
  "language_info": {
   "codemirror_mode": {
    "name": "ipython",
    "version": 3
   },
   "file_extension": ".py",
   "mimetype": "text/x-python",
   "name": "python",
   "nbconvert_exporter": "python",
   "pygments_lexer": "ipython3",
   "version": "3.7.3"
  }
 },
 "nbformat": 4,
 "nbformat_minor": 2
}
