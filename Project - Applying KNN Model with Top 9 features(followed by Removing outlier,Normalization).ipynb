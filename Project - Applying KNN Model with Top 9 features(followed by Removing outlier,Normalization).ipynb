{
 "cells": [
  {
   "cell_type": "code",
   "execution_count": 1,
   "metadata": {},
   "outputs": [],
   "source": [
    "import pandas as pd\n",
    "import numpy as np\n",
    "import seaborn as sns\n",
    "import matplotlib.pyplot as plt\n",
    "from sklearn.model_selection import train_test_split\n",
    "from sklearn.preprocessing import StandardScaler\n",
    "from sklearn.neighbors import KNeighborsClassifier\n",
    "from sklearn.metrics import confusion_matrix\n",
    "from sklearn.metrics import f1_score\n",
    "from sklearn.metrics import accuracy_score\n",
    "import math as m\n",
    "df=pd.read_csv(r'C:\\Users\\Namrata Dey\\Desktop\\PYTHON\\forestfires.csv')\n",
    "#df.head(10)\n",
    "\n",
    "\n",
    "list1=[0 for i in range(517)]\n",
    "count=0\n",
    "for index,rows in df.iterrows():\n",
    "    if rows[\"area\"]==0:\n",
    "        list1[index]=0\n",
    "    else:\n",
    "        list1[index]=1\n",
    "area_b=pd.DataFrame(list1)\n",
    "df=pd.concat([df,area_b],axis=1)\n",
    "df.rename({0:\"area_b\"},axis=1,inplace=True)\n",
    "df.drop([\"area\"],axis=1,inplace=True)\n",
    "\n",
    "from sklearn.preprocessing import LabelEncoder\n",
    "le_Gender=LabelEncoder()\n",
    "#adding the le_gender column to the input var df(x)\n",
    "df[\"month_b\"]=le_Gender.fit_transform(df[\"month\"])\n",
    "df[\"day_b\"]=le_Gender.fit_transform(df[\"day\"])\n",
    "df.drop([\"month\",\"day\"],axis=1,inplace=True)"
   ]
  },
  {
   "cell_type": "code",
   "execution_count": 2,
   "metadata": {},
   "outputs": [],
   "source": [
    "#sns.heatmap(df.corr(),annot=True)"
   ]
  },
  {
   "cell_type": "code",
   "execution_count": 3,
   "metadata": {},
   "outputs": [],
   "source": [
    "#plt.boxplot(df[\"Y\"])"
   ]
  },
  {
   "cell_type": "code",
   "execution_count": 4,
   "metadata": {},
   "outputs": [
    {
     "name": "stdout",
     "output_type": "stream",
     "text": [
      "466\n",
      "51\n"
     ]
    }
   ],
   "source": [
    "#removing outleirs of Y\n",
    "count=0\n",
    "for index,row in df.iterrows():\n",
    "    if (row[\"Y\"]>6) or (row[\"Y\"]<3) :\n",
    "        df=df.drop(index)\n",
    "        count+=1\n",
    "print(df[\"Y\"].count())\n",
    "#plt.boxplot(df[\"Y\"])\n",
    "#df.info()\n",
    "print(count)"
   ]
  },
  {
   "cell_type": "code",
   "execution_count": 5,
   "metadata": {},
   "outputs": [],
   "source": [
    "#plt.boxplot(df[\"X\"])"
   ]
  },
  {
   "cell_type": "code",
   "execution_count": 6,
   "metadata": {},
   "outputs": [],
   "source": [
    "#plt.boxplot(df[\"FFMC\"])"
   ]
  },
  {
   "cell_type": "code",
   "execution_count": 7,
   "metadata": {},
   "outputs": [
    {
     "name": "stdout",
     "output_type": "stream",
     "text": [
      "393\n",
      "73\n"
     ]
    }
   ],
   "source": [
    "#removing outleirs of FFMC\n",
    "count=0\n",
    "for index,row in df.iterrows():\n",
    "    if (row[\"FFMC\"]>96) or (row[\"FFMC\"]<88) :\n",
    "        df=df.drop(index)\n",
    "        count+=1\n",
    "print(df[\"FFMC\"].count())\n",
    "#plt.boxplot(df[\"FFMC\"])\n",
    "#df.info()\n",
    "print(count)"
   ]
  },
  {
   "cell_type": "code",
   "execution_count": 8,
   "metadata": {},
   "outputs": [],
   "source": [
    "#plt.boxplot(df[\"DMC\"])"
   ]
  },
  {
   "cell_type": "code",
   "execution_count": 9,
   "metadata": {},
   "outputs": [
    {
     "name": "stdout",
     "output_type": "stream",
     "text": [
      "355\n",
      "38\n"
     ]
    }
   ],
   "source": [
    "#removing outleirs of DMC\n",
    "count=0\n",
    "for index,row in df.iterrows():\n",
    "    if (row[\"DMC\"]>215) or (row[\"DMC\"]<5) :\n",
    "        df=df.drop(index)\n",
    "        count+=1\n",
    "print(df[\"DMC\"].count())\n",
    "#plt.boxplot(df[\"DMC\"])\n",
    "#df.info()\n",
    "print(count)"
   ]
  },
  {
   "cell_type": "code",
   "execution_count": 10,
   "metadata": {},
   "outputs": [],
   "source": [
    "#plt.boxplot(df[\"DC\"])"
   ]
  },
  {
   "cell_type": "code",
   "execution_count": 11,
   "metadata": {},
   "outputs": [
    {
     "name": "stdout",
     "output_type": "stream",
     "text": [
      "275\n",
      "80\n"
     ]
    }
   ],
   "source": [
    "#removing outleirs of DC\n",
    "count=0\n",
    "for index,row in df.iterrows():\n",
    "    if (row[\"DC\"]>800) or (row[\"DC\"]<450) :\n",
    "        df=df.drop(index)\n",
    "        count+=1\n",
    "print(df[\"DC\"].count())\n",
    "#plt.boxplot(df[\"DC\"])\n",
    "#df.info()\n",
    "print(count)"
   ]
  },
  {
   "cell_type": "code",
   "execution_count": 12,
   "metadata": {},
   "outputs": [],
   "source": [
    "#plt.boxplot(df[\"ISI\"])"
   ]
  },
  {
   "cell_type": "code",
   "execution_count": 13,
   "metadata": {},
   "outputs": [
    {
     "name": "stdout",
     "output_type": "stream",
     "text": [
      "247\n",
      "28\n"
     ]
    }
   ],
   "source": [
    "#removing outleirs of ISI\n",
    "count=0\n",
    "for index,row in df.iterrows():\n",
    "    if (row[\"ISI\"]>15.5) or (row[\"ISI\"]<0) :\n",
    "        df=df.drop(index)\n",
    "        count+=1\n",
    "print(df[\"ISI\"].count())\n",
    "#plt.boxplot(df[\"ISI\"])\n",
    "#df.info()\n",
    "print(count)"
   ]
  },
  {
   "cell_type": "code",
   "execution_count": 14,
   "metadata": {},
   "outputs": [],
   "source": [
    "#plt.boxplot(df[\"temp\"])"
   ]
  },
  {
   "cell_type": "code",
   "execution_count": 15,
   "metadata": {},
   "outputs": [
    {
     "name": "stdout",
     "output_type": "stream",
     "text": [
      "230\n",
      "17\n"
     ]
    }
   ],
   "source": [
    "#removing outleirs of temp\n",
    "count=0\n",
    "for index,row in df.iterrows():\n",
    "    if (row[\"temp\"]>30) or (row[\"temp\"]<12) :\n",
    "        df=df.drop(index)\n",
    "        count+=1\n",
    "print(df[\"temp\"].count())\n",
    "#plt.boxplot(df[\"temp\"])\n",
    "#df.info()\n",
    "print(count)"
   ]
  },
  {
   "cell_type": "code",
   "execution_count": 16,
   "metadata": {},
   "outputs": [
    {
     "data": {
      "text/plain": [
       "{'whiskers': [<matplotlib.lines.Line2D at 0x48627646d8>,\n",
       "  <matplotlib.lines.Line2D at 0x4862764a20>],\n",
       " 'caps': [<matplotlib.lines.Line2D at 0x4862764d68>,\n",
       "  <matplotlib.lines.Line2D at 0x4862764e48>],\n",
       " 'boxes': [<matplotlib.lines.Line2D at 0x48627642e8>],\n",
       " 'medians': [<matplotlib.lines.Line2D at 0x486277d438>],\n",
       " 'fliers': [<matplotlib.lines.Line2D at 0x486277d780>],\n",
       " 'means': []}"
      ]
     },
     "execution_count": 16,
     "metadata": {},
     "output_type": "execute_result"
    },
    {
     "data": {
      "image/png": "[encoded data removed]",
      "text/plain": [
       "<Figure size 432x288 with 1 Axes>"
      ]
     },
     "metadata": {
      "needs_background": "light"
     },
     "output_type": "display_data"
    }
   ],
   "source": [
    "plt.boxplot(df[\"RH\"])"
   ]
  },
  {
   "cell_type": "code",
   "execution_count": 17,
   "metadata": {},
   "outputs": [],
   "source": [
    "#plt.boxplot(df[\"wind\"])"
   ]
  },
  {
   "cell_type": "code",
   "execution_count": 18,
   "metadata": {},
   "outputs": [],
   "source": [
    "#plt.boxplot(df[\"rain\"])"
   ]
  },
  {
   "cell_type": "code",
   "execution_count": 19,
   "metadata": {},
   "outputs": [],
   "source": [
    "#after seeing so many outliers in rain, dropping rain\n",
    "df.drop([\"rain\"],axis=1,inplace=True)"
   ]
  },
  {
   "cell_type": "code",
   "execution_count": 20,
   "metadata": {},
   "outputs": [],
   "source": [
    "#df.head()"
   ]
  },
  {
   "cell_type": "code",
   "execution_count": 21,
   "metadata": {},
   "outputs": [],
   "source": [
    "#plt.boxplot(df[\"month_b\"])"
   ]
  },
  {
   "cell_type": "code",
   "execution_count": 22,
   "metadata": {},
   "outputs": [],
   "source": [
    "#plt.boxplot(df[\"day_b\"])"
   ]
  },
  {
   "cell_type": "code",
   "execution_count": 23,
   "metadata": {},
   "outputs": [
    {
     "name": "stdout",
     "output_type": "stream",
     "text": [
      "<class 'pandas.core.frame.DataFrame'>\n",
      "Int64Index: 230 entries, 1 to 515\n",
      "Data columns (total 12 columns):\n",
      "X          230 non-null int64\n",
      "Y          230 non-null int64\n",
      "FFMC       230 non-null float64\n",
      "DMC        230 non-null float64\n",
      "DC         230 non-null float64\n",
      "ISI        230 non-null float64\n",
      "temp       230 non-null float64\n",
      "RH         230 non-null int64\n",
      "wind       230 non-null float64\n",
      "area_b     230 non-null int64\n",
      "month_b    230 non-null int32\n",
      "day_b      230 non-null int32\n",
      "dtypes: float64(6), int32(2), int64(4)\n",
      "memory usage: 21.6 KB\n"
     ]
    }
   ],
   "source": [
    "df.info()"
   ]
  },
  {
   "cell_type": "code",
   "execution_count": 24,
   "metadata": {},
   "outputs": [],
   "source": [
    "#sns.countplot(x=\"area_b\",data=df)"
   ]
  },
  {
   "cell_type": "code",
   "execution_count": 25,
   "metadata": {},
   "outputs": [],
   "source": [
    "#sns.heatmap(df.corr(),annot=True)\n",
    "#after removing outliers from all columns, the corr of FFMC and day_b decrease wrt area_b and rest is increasing."
   ]
  },
  {
   "cell_type": "code",
   "execution_count": 26,
   "metadata": {},
   "outputs": [
    {
     "data": {
      "text/html": [
       "<div>\n",
       "<style scoped>\n",
       "    .dataframe tbody tr th:only-of-type {\n",
       "        vertical-align: middle;\n",
       "    }\n",
       "\n",
       "    .dataframe tbody tr th {\n",
       "        vertical-align: top;\n",
       "    }\n",
       "\n",
       "    .dataframe thead th {\n",
       "        text-align: right;\n",
       "    }\n",
       "</style>\n",
       "<table border=\"1\" class=\"dataframe\">\n",
       "  <thead>\n",
       "    <tr style=\"text-align: right;\">\n",
       "      <th></th>\n",
       "      <th>X</th>\n",
       "      <th>Y</th>\n",
       "      <th>FFMC</th>\n",
       "      <th>DMC</th>\n",
       "      <th>DC</th>\n",
       "      <th>ISI</th>\n",
       "      <th>temp</th>\n",
       "      <th>RH</th>\n",
       "      <th>wind</th>\n",
       "      <th>area_b</th>\n",
       "      <th>month_b</th>\n",
       "      <th>day_b</th>\n",
       "    </tr>\n",
       "  </thead>\n",
       "  <tbody>\n",
       "    <tr>\n",
       "      <th>1</th>\n",
       "      <td>7</td>\n",
       "      <td>4</td>\n",
       "      <td>90.6</td>\n",
       "      <td>35.4</td>\n",
       "      <td>669.1</td>\n",
       "      <td>6.7</td>\n",
       "      <td>18.0</td>\n",
       "      <td>33</td>\n",
       "      <td>0.9</td>\n",
       "      <td>0</td>\n",
       "      <td>10</td>\n",
       "      <td>5</td>\n",
       "    </tr>\n",
       "    <tr>\n",
       "      <th>2</th>\n",
       "      <td>7</td>\n",
       "      <td>4</td>\n",
       "      <td>90.6</td>\n",
       "      <td>43.7</td>\n",
       "      <td>686.9</td>\n",
       "      <td>6.7</td>\n",
       "      <td>14.6</td>\n",
       "      <td>33</td>\n",
       "      <td>1.3</td>\n",
       "      <td>0</td>\n",
       "      <td>10</td>\n",
       "      <td>2</td>\n",
       "    </tr>\n",
       "    <tr>\n",
       "      <th>5</th>\n",
       "      <td>8</td>\n",
       "      <td>6</td>\n",
       "      <td>92.3</td>\n",
       "      <td>85.3</td>\n",
       "      <td>488.0</td>\n",
       "      <td>14.7</td>\n",
       "      <td>22.2</td>\n",
       "      <td>29</td>\n",
       "      <td>5.4</td>\n",
       "      <td>0</td>\n",
       "      <td>1</td>\n",
       "      <td>3</td>\n",
       "    </tr>\n",
       "    <tr>\n",
       "      <th>6</th>\n",
       "      <td>8</td>\n",
       "      <td>6</td>\n",
       "      <td>92.3</td>\n",
       "      <td>88.9</td>\n",
       "      <td>495.6</td>\n",
       "      <td>8.5</td>\n",
       "      <td>24.1</td>\n",
       "      <td>27</td>\n",
       "      <td>3.1</td>\n",
       "      <td>0</td>\n",
       "      <td>1</td>\n",
       "      <td>1</td>\n",
       "    </tr>\n",
       "    <tr>\n",
       "      <th>8</th>\n",
       "      <td>8</td>\n",
       "      <td>6</td>\n",
       "      <td>91.0</td>\n",
       "      <td>129.5</td>\n",
       "      <td>692.6</td>\n",
       "      <td>7.0</td>\n",
       "      <td>13.1</td>\n",
       "      <td>63</td>\n",
       "      <td>5.4</td>\n",
       "      <td>0</td>\n",
       "      <td>11</td>\n",
       "      <td>5</td>\n",
       "    </tr>\n",
       "  </tbody>\n",
       "</table>\n",
       "</div>"
      ],
      "text/plain": [
       "   X  Y  FFMC    DMC     DC   ISI  temp  RH  wind  area_b  month_b  day_b\n",
       "1  7  4  90.6   35.4  669.1   6.7  18.0  33   0.9       0       10      5\n",
       "2  7  4  90.6   43.7  686.9   6.7  14.6  33   1.3       0       10      2\n",
       "5  8  6  92.3   85.3  488.0  14.7  22.2  29   5.4       0        1      3\n",
       "6  8  6  92.3   88.9  495.6   8.5  24.1  27   3.1       0        1      1\n",
       "8  8  6  91.0  129.5  692.6   7.0  13.1  63   5.4       0       11      5"
      ]
     },
     "execution_count": 26,
     "metadata": {},
     "output_type": "execute_result"
    }
   ],
   "source": [
    "# normalization\n",
    "df.head()"
   ]
  },
  {
   "cell_type": "code",
   "execution_count": 27,
   "metadata": {},
   "outputs": [],
   "source": [
    "for column in [\"X\",\"Y\",\"FFMC\",\"DMC\",\"DC\",\"ISI\",\"temp\",\"RH\",\"wind\",\"month_b\",\"day_b\"]:\n",
    "    min_=float(df[column].min())\n",
    "    max_=float(df[column].max())\n",
    "    for index,row in df.iterrows():\n",
    "        df[column]=df[column].replace(row[column],(row[column]-min_)/(max_-min_))\n"
   ]
  },
  {
   "cell_type": "code",
   "execution_count": 28,
   "metadata": {},
   "outputs": [
    {
     "data": {
      "text/html": [
       "<div>\n",
       "<style scoped>\n",
       "    .dataframe tbody tr th:only-of-type {\n",
       "        vertical-align: middle;\n",
       "    }\n",
       "\n",
       "    .dataframe tbody tr th {\n",
       "        vertical-align: top;\n",
       "    }\n",
       "\n",
       "    .dataframe thead th {\n",
       "        text-align: right;\n",
       "    }\n",
       "</style>\n",
       "<table border=\"1\" class=\"dataframe\">\n",
       "  <thead>\n",
       "    <tr style=\"text-align: right;\">\n",
       "      <th></th>\n",
       "      <th>X</th>\n",
       "      <th>Y</th>\n",
       "      <th>FFMC</th>\n",
       "      <th>DMC</th>\n",
       "      <th>DC</th>\n",
       "      <th>ISI</th>\n",
       "      <th>temp</th>\n",
       "      <th>RH</th>\n",
       "      <th>wind</th>\n",
       "      <th>area_b</th>\n",
       "      <th>month_b</th>\n",
       "      <th>day_b</th>\n",
       "    </tr>\n",
       "  </thead>\n",
       "  <tbody>\n",
       "    <tr>\n",
       "      <th>1</th>\n",
       "      <td>0.750</td>\n",
       "      <td>0.333333</td>\n",
       "      <td>0.320513</td>\n",
       "      <td>0.000000</td>\n",
       "      <td>0.634309</td>\n",
       "      <td>0.184466</td>\n",
       "      <td>0.325581</td>\n",
       "      <td>0.305085</td>\n",
       "      <td>0.058824</td>\n",
       "      <td>0</td>\n",
       "      <td>0.9</td>\n",
       "      <td>0.833333</td>\n",
       "    </tr>\n",
       "    <tr>\n",
       "      <th>2</th>\n",
       "      <td>0.750</td>\n",
       "      <td>0.333333</td>\n",
       "      <td>0.320513</td>\n",
       "      <td>0.048368</td>\n",
       "      <td>0.685888</td>\n",
       "      <td>0.184466</td>\n",
       "      <td>0.127907</td>\n",
       "      <td>0.305085</td>\n",
       "      <td>0.105882</td>\n",
       "      <td>0</td>\n",
       "      <td>0.9</td>\n",
       "      <td>0.333333</td>\n",
       "    </tr>\n",
       "    <tr>\n",
       "      <th>5</th>\n",
       "      <td>0.875</td>\n",
       "      <td>1.000000</td>\n",
       "      <td>0.538462</td>\n",
       "      <td>0.290793</td>\n",
       "      <td>0.109533</td>\n",
       "      <td>0.961165</td>\n",
       "      <td>0.569767</td>\n",
       "      <td>0.237288</td>\n",
       "      <td>0.588235</td>\n",
       "      <td>0</td>\n",
       "      <td>0.0</td>\n",
       "      <td>0.500000</td>\n",
       "    </tr>\n",
       "    <tr>\n",
       "      <th>6</th>\n",
       "      <td>0.875</td>\n",
       "      <td>1.000000</td>\n",
       "      <td>0.538462</td>\n",
       "      <td>0.311772</td>\n",
       "      <td>0.131556</td>\n",
       "      <td>0.359223</td>\n",
       "      <td>0.680233</td>\n",
       "      <td>0.203390</td>\n",
       "      <td>0.317647</td>\n",
       "      <td>0</td>\n",
       "      <td>0.0</td>\n",
       "      <td>0.166667</td>\n",
       "    </tr>\n",
       "    <tr>\n",
       "      <th>8</th>\n",
       "      <td>0.875</td>\n",
       "      <td>1.000000</td>\n",
       "      <td>0.371795</td>\n",
       "      <td>0.548368</td>\n",
       "      <td>0.702405</td>\n",
       "      <td>0.213592</td>\n",
       "      <td>0.040698</td>\n",
       "      <td>0.813559</td>\n",
       "      <td>0.588235</td>\n",
       "      <td>0</td>\n",
       "      <td>0.0</td>\n",
       "      <td>0.833333</td>\n",
       "    </tr>\n",
       "  </tbody>\n",
       "</table>\n",
       "</div>"
      ],
      "text/plain": [
       "       X         Y      FFMC       DMC        DC       ISI      temp  \\\n",
       "1  0.750  0.333333  0.320513  0.000000  0.634309  0.184466  0.325581   \n",
       "2  0.750  0.333333  0.320513  0.048368  0.685888  0.184466  0.127907   \n",
       "5  0.875  1.000000  0.538462  0.290793  0.109533  0.961165  0.569767   \n",
       "6  0.875  1.000000  0.538462  0.311772  0.131556  0.359223  0.680233   \n",
       "8  0.875  1.000000  0.371795  0.548368  0.702405  0.213592  0.040698   \n",
       "\n",
       "         RH      wind  area_b  month_b     day_b  \n",
       "1  0.305085  0.058824       0      0.9  0.833333  \n",
       "2  0.305085  0.105882       0      0.9  0.333333  \n",
       "5  0.237288  0.588235       0      0.0  0.500000  \n",
       "6  0.203390  0.317647       0      0.0  0.166667  \n",
       "8  0.813559  0.588235       0      0.0  0.833333  "
      ]
     },
     "execution_count": 28,
     "metadata": {},
     "output_type": "execute_result"
    }
   ],
   "source": [
    "df.head()"
   ]
  },
  {
   "cell_type": "code",
   "execution_count": 29,
   "metadata": {},
   "outputs": [
    {
     "name": "stderr",
     "output_type": "stream",
     "text": [
      "C:\\Users\\Namrata Dey\\Anaconda3\\anaconda\\lib\\site-packages\\sklearn\\linear_model\\logistic.py:433: FutureWarning: Default solver will be changed to 'lbfgs' in 0.22. Specify a solver to silence this warning.\n",
      "  FutureWarning)\n"
     ]
    }
   ],
   "source": [
    "from sklearn.linear_model import LogisticRegression\n",
    "from sklearn.model_selection import train_test_split\n",
    "x=df.drop([\"area_b\",\"month_b\"],axis=1) #month_b has so many zeroes after normalization, hence dropping it from x\n",
    "y=df[\"area_b\"]\n",
    "x_train,x_test,y_train,y_test=train_test_split(x,y,test_size=0.3,random_state=100)\n",
    "logmodel=LogisticRegression()\n",
    "logmodel.fit(x_train,y_train)\n",
    "\n",
    "y_pred=logmodel.predict(x_test)"
   ]
  },
  {
   "cell_type": "code",
   "execution_count": 30,
   "metadata": {},
   "outputs": [
    {
     "data": {
      "text/plain": [
       "0.6376811594202898"
      ]
     },
     "execution_count": 30,
     "metadata": {},
     "output_type": "execute_result"
    }
   ],
   "source": [
    "from sklearn.metrics import accuracy_score\n",
    "accuracy_score(y_test,y_pred)"
   ]
  },
  {
   "cell_type": "code",
   "execution_count": 31,
   "metadata": {},
   "outputs": [
    {
     "data": {
      "text/plain": [
       "<matplotlib.axes._subplots.AxesSubplot at 0x486293a208>"
      ]
     },
     "execution_count": 31,
     "metadata": {},
     "output_type": "execute_result"
    },
    {
     "data": {
      "image/png": "[encoded data removed]",
      "text/plain": [
       "<Figure size 432x288 with 1 Axes>"
      ]
     },
     "metadata": {
      "needs_background": "light"
     },
     "output_type": "display_data"
    }
   ],
   "source": [
    "sns.distplot(df[\"month_b\"])"
   ]
  },
  {
   "cell_type": "code",
   "execution_count": 32,
   "metadata": {},
   "outputs": [
    {
     "data": {
      "text/plain": [
       "<matplotlib.axes._subplots.AxesSubplot at 0x4862c3cf98>"
      ]
     },
     "execution_count": 32,
     "metadata": {},
     "output_type": "execute_result"
    },
    {
     "data": {
      "image/png": "[encoded data removed]",
      "text/plain": [
       "<Figure size 432x288 with 1 Axes>"
      ]
     },
     "metadata": {
      "needs_background": "light"
     },
     "output_type": "display_data"
    }
   ],
   "source": [
    "sns.countplot(x=\"month_b\",data=df)"
   ]
  },
  {
   "cell_type": "code",
   "execution_count": null,
   "metadata": {},
   "outputs": [],
   "source": []
  },
  {
   "cell_type": "code",
   "execution_count": 33,
   "metadata": {},
   "outputs": [
    {
     "data": {
      "text/plain": [
       "<matplotlib.axes._subplots.AxesSubplot at 0x4862cf5f60>"
      ]
     },
     "execution_count": 33,
     "metadata": {},
     "output_type": "execute_result"
    },
    {
     "data": {
      "image/png": "[encoded data removed]",
      "text/plain": [
       "<Figure size 432x288 with 2 Axes>"
      ]
     },
     "metadata": {
      "needs_background": "light"
     },
     "output_type": "display_data"
    }
   ],
   "source": [
    "sns.heatmap(df.corr(),annot=True)\n",
    "#after normalizing all columns, the corr of X and day_b increases wrt area_b, \n",
    "# corr of month_b doubles wrt area_b but sign becomes -ve ,\n",
    "# and rest shows no change.\n",
    "#1.5% accuracy increased using logistic regression"
   ]
  },
  {
   "cell_type": "code",
   "execution_count": 34,
   "metadata": {},
   "outputs": [],
   "source": [
    "from sklearn.feature_selection import SelectKBest\n",
    "from sklearn.feature_selection import f_classif\n",
    "bestfeatures=SelectKBest(score_func=f_classif,k=5)\n",
    "fit=bestfeatures.fit(x,y)\n",
    "dfscores=pd.DataFrame(fit.scores_)\n",
    "dfcolumns=pd.DataFrame(x)"
   ]
  },
  {
   "cell_type": "code",
   "execution_count": 35,
   "metadata": {},
   "outputs": [
    {
     "data": {
      "text/html": [
       "<div>\n",
       "<style scoped>\n",
       "    .dataframe tbody tr th:only-of-type {\n",
       "        vertical-align: middle;\n",
       "    }\n",
       "\n",
       "    .dataframe tbody tr th {\n",
       "        vertical-align: top;\n",
       "    }\n",
       "\n",
       "    .dataframe thead th {\n",
       "        text-align: right;\n",
       "    }\n",
       "</style>\n",
       "<table border=\"1\" class=\"dataframe\">\n",
       "  <thead>\n",
       "    <tr style=\"text-align: right;\">\n",
       "      <th></th>\n",
       "      <th>0</th>\n",
       "    </tr>\n",
       "  </thead>\n",
       "  <tbody>\n",
       "    <tr>\n",
       "      <th>0</th>\n",
       "      <td>2.237210</td>\n",
       "    </tr>\n",
       "    <tr>\n",
       "      <th>1</th>\n",
       "      <td>1.009861</td>\n",
       "    </tr>\n",
       "    <tr>\n",
       "      <th>2</th>\n",
       "      <td>4.920123</td>\n",
       "    </tr>\n",
       "    <tr>\n",
       "      <th>3</th>\n",
       "      <td>7.168572</td>\n",
       "    </tr>\n",
       "    <tr>\n",
       "      <th>4</th>\n",
       "      <td>0.521769</td>\n",
       "    </tr>\n",
       "    <tr>\n",
       "      <th>5</th>\n",
       "      <td>4.098765</td>\n",
       "    </tr>\n",
       "    <tr>\n",
       "      <th>6</th>\n",
       "      <td>3.082386</td>\n",
       "    </tr>\n",
       "    <tr>\n",
       "      <th>7</th>\n",
       "      <td>0.110887</td>\n",
       "    </tr>\n",
       "    <tr>\n",
       "      <th>8</th>\n",
       "      <td>0.016892</td>\n",
       "    </tr>\n",
       "    <tr>\n",
       "      <th>9</th>\n",
       "      <td>0.632231</td>\n",
       "    </tr>\n",
       "  </tbody>\n",
       "</table>\n",
       "</div>"
      ],
      "text/plain": [
       "          0\n",
       "0  2.237210\n",
       "1  1.009861\n",
       "2  4.920123\n",
       "3  7.168572\n",
       "4  0.521769\n",
       "5  4.098765\n",
       "6  3.082386\n",
       "7  0.110887\n",
       "8  0.016892\n",
       "9  0.632231"
      ]
     },
     "execution_count": 35,
     "metadata": {},
     "output_type": "execute_result"
    }
   ],
   "source": [
    "dfscores\n",
    "#x.head()"
   ]
  },
  {
   "cell_type": "code",
   "execution_count": 36,
   "metadata": {},
   "outputs": [
    {
     "data": {
      "text/html": [
       "<div>\n",
       "<style scoped>\n",
       "    .dataframe tbody tr th:only-of-type {\n",
       "        vertical-align: middle;\n",
       "    }\n",
       "\n",
       "    .dataframe tbody tr th {\n",
       "        vertical-align: top;\n",
       "    }\n",
       "\n",
       "    .dataframe thead th {\n",
       "        text-align: right;\n",
       "    }\n",
       "</style>\n",
       "<table border=\"1\" class=\"dataframe\">\n",
       "  <thead>\n",
       "    <tr style=\"text-align: right;\">\n",
       "      <th></th>\n",
       "      <th>X</th>\n",
       "      <th>Y</th>\n",
       "      <th>FFMC</th>\n",
       "      <th>DMC</th>\n",
       "      <th>DC</th>\n",
       "      <th>ISI</th>\n",
       "      <th>temp</th>\n",
       "      <th>RH</th>\n",
       "      <th>wind</th>\n",
       "      <th>area_b</th>\n",
       "      <th>month_b</th>\n",
       "      <th>day_b</th>\n",
       "    </tr>\n",
       "  </thead>\n",
       "  <tbody>\n",
       "    <tr>\n",
       "      <th>1</th>\n",
       "      <td>0.750</td>\n",
       "      <td>0.333333</td>\n",
       "      <td>0.320513</td>\n",
       "      <td>0.000000</td>\n",
       "      <td>0.634309</td>\n",
       "      <td>0.184466</td>\n",
       "      <td>0.325581</td>\n",
       "      <td>0.305085</td>\n",
       "      <td>0.058824</td>\n",
       "      <td>0</td>\n",
       "      <td>0.9</td>\n",
       "      <td>0.833333</td>\n",
       "    </tr>\n",
       "    <tr>\n",
       "      <th>2</th>\n",
       "      <td>0.750</td>\n",
       "      <td>0.333333</td>\n",
       "      <td>0.320513</td>\n",
       "      <td>0.048368</td>\n",
       "      <td>0.685888</td>\n",
       "      <td>0.184466</td>\n",
       "      <td>0.127907</td>\n",
       "      <td>0.305085</td>\n",
       "      <td>0.105882</td>\n",
       "      <td>0</td>\n",
       "      <td>0.9</td>\n",
       "      <td>0.333333</td>\n",
       "    </tr>\n",
       "    <tr>\n",
       "      <th>5</th>\n",
       "      <td>0.875</td>\n",
       "      <td>1.000000</td>\n",
       "      <td>0.538462</td>\n",
       "      <td>0.290793</td>\n",
       "      <td>0.109533</td>\n",
       "      <td>0.961165</td>\n",
       "      <td>0.569767</td>\n",
       "      <td>0.237288</td>\n",
       "      <td>0.588235</td>\n",
       "      <td>0</td>\n",
       "      <td>0.0</td>\n",
       "      <td>0.500000</td>\n",
       "    </tr>\n",
       "    <tr>\n",
       "      <th>6</th>\n",
       "      <td>0.875</td>\n",
       "      <td>1.000000</td>\n",
       "      <td>0.538462</td>\n",
       "      <td>0.311772</td>\n",
       "      <td>0.131556</td>\n",
       "      <td>0.359223</td>\n",
       "      <td>0.680233</td>\n",
       "      <td>0.203390</td>\n",
       "      <td>0.317647</td>\n",
       "      <td>0</td>\n",
       "      <td>0.0</td>\n",
       "      <td>0.166667</td>\n",
       "    </tr>\n",
       "    <tr>\n",
       "      <th>8</th>\n",
       "      <td>0.875</td>\n",
       "      <td>1.000000</td>\n",
       "      <td>0.371795</td>\n",
       "      <td>0.548368</td>\n",
       "      <td>0.702405</td>\n",
       "      <td>0.213592</td>\n",
       "      <td>0.040698</td>\n",
       "      <td>0.813559</td>\n",
       "      <td>0.588235</td>\n",
       "      <td>0</td>\n",
       "      <td>0.0</td>\n",
       "      <td>0.833333</td>\n",
       "    </tr>\n",
       "  </tbody>\n",
       "</table>\n",
       "</div>"
      ],
      "text/plain": [
       "       X         Y      FFMC       DMC        DC       ISI      temp  \\\n",
       "1  0.750  0.333333  0.320513  0.000000  0.634309  0.184466  0.325581   \n",
       "2  0.750  0.333333  0.320513  0.048368  0.685888  0.184466  0.127907   \n",
       "5  0.875  1.000000  0.538462  0.290793  0.109533  0.961165  0.569767   \n",
       "6  0.875  1.000000  0.538462  0.311772  0.131556  0.359223  0.680233   \n",
       "8  0.875  1.000000  0.371795  0.548368  0.702405  0.213592  0.040698   \n",
       "\n",
       "         RH      wind  area_b  month_b     day_b  \n",
       "1  0.305085  0.058824       0      0.9  0.833333  \n",
       "2  0.305085  0.105882       0      0.9  0.333333  \n",
       "5  0.237288  0.588235       0      0.0  0.500000  \n",
       "6  0.203390  0.317647       0      0.0  0.166667  \n",
       "8  0.813559  0.588235       0      0.0  0.833333  "
      ]
     },
     "execution_count": 36,
     "metadata": {},
     "output_type": "execute_result"
    }
   ],
   "source": [
    "df.head()"
   ]
  },
  {
   "cell_type": "code",
   "execution_count": 54,
   "metadata": {},
   "outputs": [
    {
     "name": "stdout",
     "output_type": "stream",
     "text": [
      "[[ 5 12]\n",
      " [ 6 23]]\n"
     ]
    }
   ],
   "source": [
    "from sklearn.model_selection import train_test_split\n",
    "x=df.loc[ : ,[\"DMC\",\"FFMC\",\"ISI\",\"temp\",\"X\",\"Y\",\"day_b\",\"DC\",\"RH\"]]\n",
    "y=df[\"area_b\"]\n",
    "x_train,x_test,y_train,y_test=train_test_split(x,y,test_size=0.2,random_state=100)\n",
    "b=int(m.sqrt(len(x)))\n",
    "classifier=KNeighborsClassifier(n_neighbors=b,p=2,metric='euclidean')\n",
    "classifier.fit(x_train,y_train)\n",
    "\n",
    "y_pred=classifier.predict(x_test)\n",
    "\n",
    "cm=confusion_matrix(y_test,y_pred)\n",
    "print(cm)"
   ]
  },
  {
   "cell_type": "code",
   "execution_count": 55,
   "metadata": {},
   "outputs": [
    {
     "data": {
      "text/plain": [
       "0.6086956521739131"
      ]
     },
     "execution_count": 55,
     "metadata": {},
     "output_type": "execute_result"
    }
   ],
   "source": [
    "from sklearn.metrics import accuracy_score\n",
    "accuracy_score(y_test,y_pred)"
   ]
  },
  {
   "cell_type": "code",
   "execution_count": 39,
   "metadata": {},
   "outputs": [
    {
     "data": {
      "text/plain": [
       "DMC      230\n",
       "FFMC     230\n",
       "ISI      230\n",
       "temp     230\n",
       "X        230\n",
       "Y        230\n",
       "day_b    230\n",
       "DC       230\n",
       "RH       230\n",
       "dtype: int64"
      ]
     },
     "execution_count": 39,
     "metadata": {},
     "output_type": "execute_result"
    }
   ],
   "source": [
    "x.count()"
   ]
  },
  {
   "cell_type": "code",
   "execution_count": null,
   "metadata": {},
   "outputs": [],
   "source": []
  },
  {
   "cell_type": "code",
   "execution_count": null,
   "metadata": {},
   "outputs": [],
   "source": []
  },
  {
   "cell_type": "code",
   "execution_count": null,
   "metadata": {},
   "outputs": [],
   "source": []
  },
  {
   "cell_type": "code",
   "execution_count": null,
   "metadata": {},
   "outputs": [],
   "source": []
  },
  {
   "cell_type": "code",
   "execution_count": null,
   "metadata": {},
   "outputs": [],
   "source": []
  },
  {
   "cell_type": "code",
   "execution_count": null,
   "metadata": {},
   "outputs": [],
   "source": []
  },
  {
   "cell_type": "code",
   "execution_count": null,
   "metadata": {},
   "outputs": [],
   "source": []
  },
  {
   "cell_type": "code",
   "execution_count": null,
   "metadata": {},
   "outputs": [],
   "source": []
  },
  {
   "cell_type": "code",
   "execution_count": null,
   "metadata": {},
   "outputs": [],
   "source": []
  },
  {
   "cell_type": "code",
   "execution_count": null,
   "metadata": {},
   "outputs": [],
   "source": []
  },
  {
   "cell_type": "code",
   "execution_count": null,
   "metadata": {},
   "outputs": [],
   "source": []
  },
  {
   "cell_type": "code",
   "execution_count": null,
   "metadata": {},
   "outputs": [],
   "source": []
  },
  {
   "cell_type": "code",
   "execution_count": null,
   "metadata": {},
   "outputs": [],
   "source": []
  },
  {
   "cell_type": "code",
   "execution_count": null,
   "metadata": {},
   "outputs": [],
   "source": []
  },
  {
   "cell_type": "code",
   "execution_count": null,
   "metadata": {},
   "outputs": [],
   "source": []
  }
 ],
 "metadata": {
  "kernelspec": {
   "display_name": "Python 3",
   "language": "python",
   "name": "python3"
  },
  "language_info": {
   "codemirror_mode": {
    "name": "ipython",
    "version": 3
   },
   "file_extension": ".py",
   "mimetype": "text/x-python",
   "name": "python",
   "nbconvert_exporter": "python",
   "pygments_lexer": "ipython3",
   "version": "3.7.3"
  }
 },
 "nbformat": 4,
 "nbformat_minor": 2
}
